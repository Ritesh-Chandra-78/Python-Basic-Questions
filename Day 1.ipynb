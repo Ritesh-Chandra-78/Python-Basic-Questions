{
 "cells": [
  {
   "cell_type": "raw",
   "id": "426f1e4d-985b-4666-bb31-1c997caeef05",
   "metadata": {},
   "source": [
    "Basic Python Questions\n",
    "What are the key features of Python?\n",
    "Explain the difference between list, tuple, set, and dictionary.\n",
    "What is the difference between is and == in Python?\n",
    "What are Python’s built-in data types?\n",
    "What is the difference between deep copy and shallow copy?\n",
    "How does Python manage memory?\n",
    "What are mutable and immutable types in Python?\n",
    "How do you swap two variables in Python without using a third variable?\n",
    "Explain the use of if __name__ == \"__main__\": in Python.\n",
    "What is the difference between Python 2 and Python 3?\n",
    "\n",
    "Intermediate Python Questions\n",
    "How does Python handle arguments in functions: pass by reference or pass by value?\n",
    "What are lambda functions? Give an example.\n",
    "What is list comprehension? Provide an example.\n",
    "What are *args and **kwargs in Python?\n",
    "Explain Python's exception handling mechanism.\n",
    "What is the difference between break, continue, and pass?\n",
    "How does the zip() function work?\n",
    "How do you sort a list of dictionaries by a specific key?\n",
    "Explain the difference between @staticmethod, @classmethod, and instance methods.\n",
    "What are Python’s built-in modules? Name a few."
   ]
  },
  {
   "cell_type": "raw",
   "id": "25fa0de0-68de-4cce-9628-efef8ef18742",
   "metadata": {},
   "source": [
    "# What are the key features of Python?\n",
    "\n",
    "1. Simple and Easy to Learn\n",
    "Python has a clear and readable syntax that resembles natural language.\n",
    "Example: print(\"Hello, World!\")\n",
    "2. Interpreted Language\n",
    "Python executes code line by line (interpreted) rather than compiling the entire program beforehand.\n",
    "This makes debugging easier.\n",
    "3. Dynamically Typed\n",
    "No need to specify variable types; Python determines them at runtime.\n",
    "\n",
    "Python supports both object-oriented (OOP) and procedural programming.\n",
    "Python comes with many built-in modules for tasks like file handling, networking, and web development.\n",
    "Python code runs on different operating systems (Windows, macOS, Linux) without modification.\n"
   ]
  },
  {
   "cell_type": "code",
   "execution_count": 8,
   "id": "00774c1b-15f8-4e6c-8b29-4041debb58a7",
   "metadata": {},
   "outputs": [
    {
     "name": "stdout",
     "output_type": "stream",
     "text": [
      "True\n",
      "False\n",
      "True\n"
     ]
    }
   ],
   "source": [
    "# The == operator checks for equality of value, while the is operator checks for identity. \n",
    "# In other words, == returns True if two objects have the same value, while is returns True \n",
    "# if two objects are the exact same object in memory. Python\n",
    "\n",
    "\n",
    "a = [1, 2, 3]\n",
    "b = [1, 2, 3]\n",
    "c = a\n",
    "\n",
    "print(a == b) # Output: True (same value)\n",
    "print(a is b) # Output: False (different objects)\n",
    "print(a is c) # Output: True (same object)"
   ]
  },
  {
   "cell_type": "code",
   "execution_count": 9,
   "id": "cb0a856a-31ee-4053-b38b-febf5386157c",
   "metadata": {},
   "outputs": [
    {
     "name": "stdout",
     "output_type": "stream",
     "text": [
      "True\n",
      "True\n",
      "True\n",
      "False\n"
     ]
    }
   ],
   "source": [
    "x = \"hello\"\n",
    "y = \"hello\"\n",
    "z = 1000\n",
    "w = 1000\n",
    "\n",
    "print(x == y) # Output: True\n",
    "print(x is y) # Output: True (string interning)\n",
    "\n",
    "print(z == w) # Output: True\n",
    "print(z is w) # Output: False (for larger integers)"
   ]
  },
  {
   "cell_type": "raw",
   "id": "e3a95826-dcee-4754-a98f-6316233051b9",
   "metadata": {},
   "source": [
    "# What are Python’s built-in data types?\n",
    "Python's built-in data types include numeric types, strings, booleans, and collection types.\n",
    "\n",
    "1. Numeric Types\n",
    "Python supports different types of numbers:\n",
    "\n",
    "Integer (int) – Whole numbers, positive or negative. immutable \n",
    "Floating-Point (float) – Decimal numbers. immutable\n",
    "Complex (complex) – Numbers with real and imaginary parts.\n",
    "\n",
    "2. String Type (str)\n",
    "A string is a sequence of Unicode characters. Strings are immutable (cannot be changed after creation).\n",
    "\n",
    "3. Boolean Type (bool)\n",
    "The Boolean type represents True or False values.\n",
    "It is mainly used in conditional statements and logical operations.\n",
    "\n",
    "4. Collection Types\n",
    "List (list) – Ordered and Mutable\n",
    "Tuple (tuple) – Ordered and Immutable\n",
    "Set (set) – Unordered and Unique mutable \n",
    "Dictionary (dict) – Key-Value Pairs mutable "
   ]
  },
  {
   "cell_type": "code",
   "execution_count": null,
   "id": "5a28f54f-5c70-4345-908a-1975f3ae68d8",
   "metadata": {},
   "outputs": [],
   "source": [
    "# How does Python manage memory?\n",
    "\n",
    "# import copy\n",
    "\n",
    "# Original list with nested list\n",
    "original_list = [[1, 2, 3], [4, 5, 6]]\n",
    "print(id(original_list))\n",
    "shallow_copied_list = copy.copy(original_list)\n",
    "print(id(shallow_copied_list))\n",
    "\n",
    "# Modify nested list in copied object\n",
    "shallow_copied_list[0][0] = 99\n",
    "\n",
    "# Output\n",
    "print(\"Original:\", original_list)  \n",
    "print(\"Shallow Copy:\", shallow_copied_list)\n"
   ]
  },
  {
   "cell_type": "code",
   "execution_count": 27,
   "id": "4f3f50ec-62d0-49fd-932f-4cdc2e4288a2",
   "metadata": {},
   "outputs": [
    {
     "name": "stdout",
     "output_type": "stream",
     "text": [
      "20\n",
      "10\n"
     ]
    }
   ],
   "source": [
    "# How do you swap two variables in Python without using a third variable?\n",
    "\n",
    "a = 10\n",
    "b = 20\n",
    "a,b = b,a\n",
    "print(a)\n",
    "print(b)"
   ]
  },
  {
   "cell_type": "code",
   "execution_count": 50,
   "id": "b3de776d-b1f1-45ac-9854-afa6ed65b403",
   "metadata": {},
   "outputs": [
    {
     "name": "stdout",
     "output_type": "stream",
     "text": [
      "10 b\n",
      "20 a\n"
     ]
    }
   ],
   "source": [
    "a = 10\n",
    "b = 20\n",
    "\n",
    "a = a+b  # a=30\n",
    "b = a-b  # a= 30 b=10\n",
    "a = a-b  #\n",
    "print(b,\"b\")\n",
    "print(a,\"a\")\n"
   ]
  },
  {
   "cell_type": "raw",
   "id": "8d8d967c-e9bf-4706-a0ff-9deb38614723",
   "metadata": {},
   "source": [
    "Explain the use of if __name__ == \"__main__\": in Python.\n",
    "\n",
    "The if __name__ == \"__main__\": statement in Python serves to control code execution based on how the script is run.\n",
    "When a Python file is executed directly, the special variable __name__ is set to \"__main__\". However, when the file\n",
    "is imported as a module into another script, __name__ is set to the module's name.\n",
    "Therefore, the code block within the if __name__ == \"__main__\": condition is only executed when the script is run directly, \n",
    "not when it's imported. This mechanism allows a Python file to function both as an executable script and as a reusable module,\n",
    "preventing unintended code execution during import.\n"
   ]
  },
  {
   "cell_type": "raw",
   "id": "87baf95c-13e4-452f-93d0-59948100e498",
   "metadata": {},
   "source": [
    "# What is the difference between Python 2 and Python 3?\n",
    "\n",
    "\n",
    "Python 2.0 – October 16, 2000\n",
    "Python 2.1 – April 17, 2001\n",
    "Python 2.2 – December 21, 2001\n",
    "Python 2.3 – July 29, 2003\n",
    "Python 2.4 – November 30, 2004\n",
    "Python 2.5 – September 19, 2006\n",
    "Python 2.6 – October 1, 2008\n",
    "Python 2.7-July 3, 2010"
   ]
  },
  {
   "cell_type": "code",
   "execution_count": null,
   "id": "ade9e118-7777-47d6-9b61-c0f5add166c1",
   "metadata": {},
   "outputs": [],
   "source": []
  },
  {
   "cell_type": "code",
   "execution_count": 17,
   "id": "0ca486bc-748e-4c2b-8f8b-b8135fb83cf8",
   "metadata": {},
   "outputs": [
    {
     "name": "stdout",
     "output_type": "stream",
     "text": [
      "2550\n"
     ]
    }
   ],
   "source": [
    "# 8. Calculate the sum of all even numbers between 1 to 100 using loop\n",
    "\n",
    "res =0\n",
    "for i in range(1,101):\n",
    "    if i%2 == 0:\n",
    "        res += i\n",
    "print(res)"
   ]
  },
  {
   "cell_type": "code",
   "execution_count": 289,
   "id": "20d90e3a-87dc-4658-b924-d26d2347a13d",
   "metadata": {},
   "outputs": [
    {
     "name": "stdout",
     "output_type": "stream",
     "text": [
      "15\n"
     ]
    }
   ],
   "source": [
    "# l = [\"hello\",\"world\",\"i\",\"am\",\"python\"]\n",
    "# l = {\"name\":\"rahul\",\"age\":11,\"gender\":\"male\"}\n",
    "l = (\"hello\",\"world\",\"i\",\"am\",\"python\")\n",
    "l = {\"hello\",\"world\",\"i\",\"am\",\"python\"}\n",
    "l = 1,2,3,4,5\n",
    "r = 0\n",
    "for i in enumerate(l,start=100):\n",
    "    r = r+int(i[1])\n",
    "print(r)"
   ]
  },
  {
   "cell_type": "code",
   "execution_count": 290,
   "id": "54fe4729-fb31-41f3-ba33-1e32cab1f7ce",
   "metadata": {},
   "outputs": [
    {
     "name": "stdout",
     "output_type": "stream",
     "text": [
      "111\n"
     ]
    }
   ],
   "source": [
    "s = [\"hello\"]\n",
    "\n",
    "for i in s:\n",
    "    for j in i:\n",
    "        data = ord(j)\n",
    "print(data)"
   ]
  },
  {
   "cell_type": "code",
   "execution_count": 5,
   "id": "5d19e26f-7c65-421e-b326-d3a492251b82",
   "metadata": {},
   "outputs": [
    {
     "data": {
      "text/plain": [
       "300"
      ]
     },
     "execution_count": 5,
     "metadata": {},
     "output_type": "execute_result"
    }
   ],
   "source": [
    "# Given two integer numbers, write a Python program to return their product only if the product is equal to or lower than 1000. Otherwise,\n",
    "# return their sum.\n",
    "\n",
    "def mult_or_sum(num1,num2):\n",
    "    product = num1*num2\n",
    "    if product <= 1000:\n",
    "        return product\n",
    "    else:\n",
    "        return num1+num2\n",
    "\n",
    "mult_or_sum(100,200)\n"
   ]
  },
  {
   "cell_type": "code",
   "execution_count": 53,
   "id": "4e1cb8dd-b122-407c-96a8-6d3dee4558f3",
   "metadata": {},
   "outputs": [
    {
     "name": "stdout",
     "output_type": "stream",
     "text": [
      "current: 1,previous: 0,sum: 1\n",
      "current: 2,previous: 1,sum: 3\n",
      "current: 3,previous: 2,sum: 5\n",
      "current: 4,previous: 3,sum: 7\n",
      "current: 5,previous: 4,sum: 9\n",
      "current: 6,previous: 5,sum: 11\n",
      "current: 7,previous: 6,sum: 13\n",
      "current: 8,previous: 7,sum: 15\n",
      "current: 9,previous: 8,sum: 17\n",
      "current: 10,previous: 9,sum: 19\n"
     ]
    }
   ],
   "source": [
    " # Write Python code to iterate through the first 10 numbers and, in each iteration,\n",
    "# print the sum of the current and previous number.\n",
    "\n",
    "\n",
    "start = 0\n",
    "\n",
    "for i in range(1,11):\n",
    "    pre = start+i\n",
    "    print(f\"current: {i},previous: {start},sum: {pre}\")    \n",
    "    start =i\n",
    "\n"
   ]
  },
  {
   "cell_type": "code",
   "execution_count": 291,
   "id": "f2f95bd1-6287-4210-943f-b780784bf5d7",
   "metadata": {},
   "outputs": [
    {
     "name": "stdout",
     "output_type": "stream",
     "text": [
      "P\n",
      "n\n",
      "t\n",
      "v\n"
     ]
    }
   ],
   "source": [
    "# remove fisrt character\n",
    "str1 = \"PYnative\"\n",
    "\n",
    "for i in range(len(str1)):\n",
    "    if i%2 == 0:\n",
    "        print(str1[i])"
   ]
  },
  {
   "cell_type": "code",
   "execution_count": 292,
   "id": "341aacf6-8c5b-40fd-a789-e8698a35545d",
   "metadata": {},
   "outputs": [
    {
     "data": {
      "text/plain": [
       "'Ynative'"
      ]
     },
     "execution_count": 292,
     "metadata": {},
     "output_type": "execute_result"
    }
   ],
   "source": [
    "str1 = \"PYnative\"\n",
    "\n",
    "new_str=str1[1:] \n",
    "new_str\n"
   ]
  },
  {
   "cell_type": "code",
   "execution_count": 293,
   "id": "51a64519-c13d-4a33-9d3a-32665ef6a34c",
   "metadata": {},
   "outputs": [
    {
     "name": "stdout",
     "output_type": "stream",
     "text": [
      "equal\n"
     ]
    }
   ],
   "source": [
    "# check first and last number is equal or not\n",
    "numbers_x = [10, 20, 30, 40, 10]\n",
    "start = numbers_x[0]\n",
    "end = numbers_x[-1]\n",
    "if start == end:\n",
    "    print(\"equal\")\n",
    "else:\n",
    "    print(\"Not equal\")"
   ]
  },
  {
   "cell_type": "code",
   "execution_count": 153,
   "id": "e5fd6bbd-c4b8-4bfd-b319-1834fe03ee47",
   "metadata": {},
   "outputs": [
    {
     "name": "stdout",
     "output_type": "stream",
     "text": [
      "\n",
      "1\n",
      "22\n",
      "333\n",
      "4444\n",
      "55555\n"
     ]
    }
   ],
   "source": [
    "for i in range(6):\n",
    "    for j in range(i):  \n",
    "        print(i,end=\"\")\n",
    "    print()"
   ]
  },
  {
   "cell_type": "code",
   "execution_count": 294,
   "id": "84e2a532-fe2f-45d4-b17c-de284e8b047e",
   "metadata": {},
   "outputs": [
    {
     "name": "stdout",
     "output_type": "stream",
     "text": [
      "not palindrome\n"
     ]
    }
   ],
   "source": [
    "# check palindrome \n",
    "number = str(12111)\n",
    "\n",
    "if number[::-1] == number:\n",
    "    print(\"palindrome\")\n",
    "else:\n",
    "    print(\"not palindrome\")"
   ]
  },
  {
   "cell_type": "code",
   "execution_count": 182,
   "id": "2d5b6b96-2330-4bd2-bebc-091d62b9834c",
   "metadata": {},
   "outputs": [
    {
     "name": "stdout",
     "output_type": "stream",
     "text": [
      "palindrome\n"
     ]
    }
   ],
   "source": [
    "# chek\n",
    "number = str(\"madam\")\n",
    "new_str = []\n",
    "for i in range(len(number)-1,-1,-1):\n",
    "    new_str.append(number[i])\n",
    "    \n",
    "data = \"\".join(new_str)\n",
    "\n",
    "if number == data:\n",
    "    print(\"palindrome\")\n",
    "else:\n",
    "    print(\"not palindrome\")\n",
    "    "
   ]
  },
  {
   "cell_type": "code",
   "execution_count": 197,
   "id": "eb125656-8b6c-492e-ab9b-a9215823e274",
   "metadata": {},
   "outputs": [
    {
     "name": "stdout",
     "output_type": "stream",
     "text": [
      "10 20 30 40 10 11 22 "
     ]
    }
   ],
   "source": [
    "numbers_x = 10, 20, 30, 40, 10,11,22\n",
    "for i in numbers_x:\n",
    "    print(i,end=\" \")"
   ]
  },
  {
   "cell_type": "code",
   "execution_count": null,
   "id": "1094b5b2-7a35-4843-bf31-86c3d61aa01a",
   "metadata": {},
   "outputs": [],
   "source": []
  }
 ],
 "metadata": {
  "kernelspec": {
   "display_name": "Python 3 (ipykernel)",
   "language": "python",
   "name": "python3"
  },
  "language_info": {
   "codemirror_mode": {
    "name": "ipython",
    "version": 3
   },
   "file_extension": ".py",
   "mimetype": "text/x-python",
   "name": "python",
   "nbconvert_exporter": "python",
   "pygments_lexer": "ipython3",
   "version": "3.11.9"
  },
  "widgets": {
   "application/vnd.jupyter.widget-state+json": {
    "state": {},
    "version_major": 2,
    "version_minor": 0
   }
  }
 },
 "nbformat": 4,
 "nbformat_minor": 5
}
