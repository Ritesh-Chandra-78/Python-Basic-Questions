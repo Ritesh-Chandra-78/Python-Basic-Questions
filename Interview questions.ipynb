{
 "cells": [
  {
   "cell_type": "code",
   "execution_count": 143,
   "id": "af7c3268-28ba-490e-b4df-5206e91e3192",
   "metadata": {},
   "outputs": [
    {
     "name": "stdout",
     "output_type": "stream",
     "text": [
      "[0, 1, 1, 2, 3, 5, 8, 13, 21, 34, 55, 89, 144, 233, 377, 610, 987, 1597, 2584, 4181, 6765, 10946]\n"
     ]
    }
   ],
   "source": [
    "# find the Fibonacci series\n",
    "def fibb(n):\n",
    "    l = [0,1]\n",
    "    for i in range(n):\n",
    "        res = l[-1]+l[-2]\n",
    "        l.append(res)\n",
    "    print(l)\n",
    "\n",
    "\n",
    "fibb(20)"
   ]
  },
  {
   "cell_type": "code",
   "execution_count": 52,
   "id": "72cfb10a-608f-4e10-8825-f250a860794b",
   "metadata": {},
   "outputs": [],
   "source": [
    "# genrator for Fibonacci series\n",
    "def fib(n):\n",
    "    a,b = 0,1\n",
    "    while True:\n",
    "        yield a\n",
    "        a,b= b,a+b\n",
    "        "
   ]
  },
  {
   "cell_type": "code",
   "execution_count": 53,
   "id": "fc9c8499-5529-41ae-bee5-3ae60e982d05",
   "metadata": {},
   "outputs": [
    {
     "name": "stdout",
     "output_type": "stream",
     "text": [
      "0\n",
      "1\n",
      "1\n"
     ]
    }
   ],
   "source": [
    "f1 = fib(10)\n",
    "print(next(f1))\n",
    "print(next(f1))\n",
    "print(next(f1))"
   ]
  },
  {
   "cell_type": "code",
   "execution_count": 54,
   "id": "b17a8cc4-4473-4637-a970-2bdc44d1eeae",
   "metadata": {},
   "outputs": [
    {
     "name": "stdout",
     "output_type": "stream",
     "text": [
      "[3, 4, 6, 21, 32, 41, 43, 67, 78, 85, 87, 324]\n"
     ]
    }
   ],
   "source": [
    "list1 = [21,4,3,6,87,32,85,41,67,43,78,324]\n",
    "\n",
    "for i in range(len(list1)):\n",
    "    for j in range(i+1,len(list1)):\n",
    "        if list1[i] > list1[j]:\n",
    "            list1[i],list1[j] = list1[j],list1[i]\n",
    "        \n",
    "print(list1)"
   ]
  },
  {
   "cell_type": "code",
   "execution_count": 55,
   "id": "54fe628b-e50e-403c-8e0c-9aa16fd8f665",
   "metadata": {},
   "outputs": [
    {
     "name": "stdout",
     "output_type": "stream",
     "text": [
      "palindrome\n"
     ]
    }
   ],
   "source": [
    "str1 = \"madam\"\n",
    "\n",
    "if str1[::-1] == str1:\n",
    "    print(\"palindrome\")\n",
    "else:\n",
    "    print(\"not palindrome\")"
   ]
  },
  {
   "cell_type": "code",
   "execution_count": 56,
   "id": "f415aac7-735d-4680-a847-c5648265db7b",
   "metadata": {},
   "outputs": [
    {
     "name": "stdout",
     "output_type": "stream",
     "text": [
      "palindrome\n"
     ]
    }
   ],
   "source": [
    "str1 = \"madam\"\n",
    "\n",
    "reverse = []\n",
    "for i in range(len(str1)-1,-1,-1):\n",
    "    reverse.append(str1[i])\n",
    "    r = \"\".join(reverse)\n",
    "if r == str1:\n",
    "    print(\"palindrome\")\n",
    "else:\n",
    "    print(\"not palindrome\")"
   ]
  },
  {
   "cell_type": "code",
   "execution_count": 57,
   "id": "47bbeccd-6548-4201-8619-62e188273513",
   "metadata": {},
   "outputs": [
    {
     "name": "stdout",
     "output_type": "stream",
     "text": [
      "{'age': 123, 'gender': 'male', 'name': 'rahul'}\n"
     ]
    }
   ],
   "source": [
    "# sort a dict\n",
    "d1 = {\"name\":\"rahul\",\"age\":123,\"gender\":\"male\"}\n",
    "\n",
    "d2 = {}\n",
    "for i in sorted(d1.keys()):\n",
    "    d2[i] = d1[i] \n",
    "print(d2)\n"
   ]
  },
  {
   "cell_type": "code",
   "execution_count": 58,
   "id": "cfd1d741-d980-47d1-999c-6d0951997568",
   "metadata": {},
   "outputs": [
    {
     "name": "stdout",
     "output_type": "stream",
     "text": [
      "8 2\n",
      "3 7\n",
      "9 1\n"
     ]
    }
   ],
   "source": [
    "# print all pairs with given sum.\n",
    "\n",
    "list1 = [8,3,2,7,9,4,1]\n",
    "\n",
    "k = 10\n",
    "\n",
    "for i in range(len(list1)):\n",
    "    for j in range(i+1,len(list1)):\n",
    "        if list1[i]+list1[j] == k:\n",
    "            print(list1[i],list1[j])\n",
    "        "
   ]
  },
  {
   "cell_type": "code",
   "execution_count": 85,
   "id": "243b8d5b-c820-4de3-8cb1-58aa708a3ba8",
   "metadata": {},
   "outputs": [
    {
     "name": "stdout",
     "output_type": "stream",
     "text": [
      "{'h': 1, 'e': 3, 'l': 2, 'o': 2, ' ': 4, 'm': 3, 'y': 1, 'n': 7, 'a': 1, 'i': 1, 's': 1, 'c': 1, 'p': 1, 'u': 1, 't': 1, 'r': 1, '.': 1}\n",
      "most repeated char= n\n"
     ]
    }
   ],
   "source": [
    "str1 = \"hello my nnnnnnname is computer.\"\n",
    "count = {}\n",
    "for i in str1:\n",
    "    if i in count:\n",
    "        count[i] += 1\n",
    "    else:\n",
    "        count[i] = 1\n",
    "print(count)\n",
    "\n",
    "most_frequent = max(count, key=count.get)\n",
    "print(f\"most repeated char= {most_frequent}\")"
   ]
  },
  {
   "cell_type": "code",
   "execution_count": 66,
   "id": "b5d90efa-cdcf-4f33-9fdb-63a5e805de8c",
   "metadata": {},
   "outputs": [
    {
     "name": "stdout",
     "output_type": "stream",
     "text": [
      "{'hello': 1, 'my': 1, 'name': 1, 'is': 1, 'computer.': 1}\n"
     ]
    }
   ],
   "source": [
    "str1 = \"hello my name is computer.\"\n",
    "count = {}\n",
    "for i in str1.split():\n",
    "    if i in count:\n",
    "        count[i] += 1\n",
    "    else:\n",
    "        count[i] = 1\n",
    "\n",
    "print(count)"
   ]
  },
  {
   "cell_type": "code",
   "execution_count": 89,
   "id": "7c162b97-d05b-4729-aeb1-effc4647c97a",
   "metadata": {},
   "outputs": [
    {
     "name": "stdout",
     "output_type": "stream",
     "text": [
      "441\n"
     ]
    }
   ],
   "source": [
    "list1 = [21,4,3,6,87,32,85,441,67,43,78,324]\n",
    "max_length= list1[0]\n",
    "\n",
    "for i in list1:\n",
    "    if i > max_length:\n",
    "        max_length = i\n",
    "print(max_length)"
   ]
  },
  {
   "cell_type": "code",
   "execution_count": 92,
   "id": "28633fe3-c413-46ff-8582-cf6cf1640e3e",
   "metadata": {},
   "outputs": [
    {
     "name": "stdout",
     "output_type": "stream",
     "text": [
      "3\n"
     ]
    }
   ],
   "source": [
    "list1 = [21,4,3,6,87,32,85,441,67,43,78,324]\n",
    "min_length = list1[0]\n",
    "\n",
    "for i in list1:\n",
    "    if i < min_length:\n",
    "        min_length = i\n",
    "print(min_length)"
   ]
  },
  {
   "cell_type": "code",
   "execution_count": 98,
   "id": "4d55e6a7-3394-430c-bf33-8efd03d43514",
   "metadata": {},
   "outputs": [
    {
     "ename": "Exception",
     "evalue": "78 is found",
     "output_type": "error",
     "traceback": [
      "\u001b[1;31m---------------------------------------------------------------------------\u001b[0m",
      "\u001b[1;31mException\u001b[0m                                 Traceback (most recent call last)",
      "Cell \u001b[1;32mIn[98], line 6\u001b[0m\n\u001b[0;32m      4\u001b[0m \u001b[38;5;28;01mfor\u001b[39;00m i \u001b[38;5;129;01min\u001b[39;00m list1:\n\u001b[0;32m      5\u001b[0m     \u001b[38;5;28;01mif\u001b[39;00m i \u001b[38;5;241m==\u001b[39m \u001b[38;5;241m78\u001b[39m:\n\u001b[1;32m----> 6\u001b[0m         \u001b[38;5;28;01mraise\u001b[39;00m \u001b[38;5;167;01mException\u001b[39;00m(\u001b[38;5;124m\"\u001b[39m\u001b[38;5;124m78 is found\u001b[39m\u001b[38;5;124m\"\u001b[39m)\n\u001b[0;32m      7\u001b[0m     \u001b[38;5;28;01melse\u001b[39;00m:\n\u001b[0;32m      8\u001b[0m         res \u001b[38;5;241m+\u001b[39m\u001b[38;5;241m=\u001b[39m i\n",
      "\u001b[1;31mException\u001b[0m: 78 is found"
     ]
    }
   ],
   "source": [
    "# how to raise exceptions \n",
    "list1 = [21,4,3,6,87,32,85,441,67,43,78,324]\n",
    "res = 0\n",
    "for i in list1:\n",
    "    if i == 78:\n",
    "        raise Exception(\"78 is found\")\n",
    "    else:\n",
    "        res += i\n",
    "print(res)"
   ]
  },
  {
   "cell_type": "code",
   "execution_count": 139,
   "id": "a72a6d86-292a-4351-ad17-67d38cfa2e6c",
   "metadata": {},
   "outputs": [],
   "source": [
    "# prime number\n",
    "\n",
    "def prime_number(number):\n",
    "    res = 0\n",
    "    if number < 2:\n",
    "        return \"not a prime number\"\n",
    "    else:\n",
    "        for i in range(2,number):\n",
    "            if number%i == 0:\n",
    "                return False\n",
    "        return True"
   ]
  },
  {
   "cell_type": "code",
   "execution_count": 140,
   "id": "2b7527e8-d79e-4eb9-af40-ed31eb5f65aa",
   "metadata": {},
   "outputs": [],
   "source": [
    "# prime_number(23)"
   ]
  },
  {
   "cell_type": "code",
   "execution_count": 142,
   "id": "583eab2b-cf95-413b-835d-c88921e9a2c5",
   "metadata": {},
   "outputs": [
    {
     "data": {
      "text/plain": [
       "17"
      ]
     },
     "execution_count": 142,
     "metadata": {},
     "output_type": "execute_result"
    }
   ],
   "source": [
    "def add_prime(num):\n",
    "    res = 0\n",
    "    for i in range(2,num + 1):\n",
    "        if prime_number(i):\n",
    "            res += i\n",
    "    return res\n",
    "add_prime(10)"
   ]
  },
  {
   "cell_type": "code",
   "execution_count": 150,
   "id": "3a22f2bd-1c00-4762-966a-33b9365fabb9",
   "metadata": {},
   "outputs": [
    {
     "data": {
      "text/plain": [
       "120"
      ]
     },
     "execution_count": 150,
     "metadata": {},
     "output_type": "execute_result"
    }
   ],
   "source": [
    "# find the factorial.\n",
    "\n",
    "def factorial(num):\n",
    "    res = 1\n",
    "    if num < 0:\n",
    "        return \"factorial does not exits of negative number\"\n",
    "    elif num == 0:\n",
    "        return \"factorial of 0 is 1\"\n",
    "    else:\n",
    "        for i in range(1,num+1):\n",
    "            res *= i\n",
    "        return res\n",
    "\n",
    "factorial(5)"
   ]
  },
  {
   "cell_type": "code",
   "execution_count": null,
   "id": "ab10229e-1c8b-4858-a020-a2c4286dfb46",
   "metadata": {},
   "outputs": [],
   "source": []
  }
 ],
 "metadata": {
  "kernelspec": {
   "display_name": "Python 3 (ipykernel)",
   "language": "python",
   "name": "python3"
  },
  "language_info": {
   "codemirror_mode": {
    "name": "ipython",
    "version": 3
   },
   "file_extension": ".py",
   "mimetype": "text/x-python",
   "name": "python",
   "nbconvert_exporter": "python",
   "pygments_lexer": "ipython3",
   "version": "3.11.9"
  },
  "widgets": {
   "application/vnd.jupyter.widget-state+json": {
    "state": {},
    "version_major": 2,
    "version_minor": 0
   }
  }
 },
 "nbformat": 4,
 "nbformat_minor": 5
}
