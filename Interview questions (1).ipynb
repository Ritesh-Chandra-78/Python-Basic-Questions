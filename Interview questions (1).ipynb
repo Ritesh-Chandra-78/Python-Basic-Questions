{
 "cells": [
  {
   "cell_type": "code",
   "execution_count": null,
   "id": "af7c3268-28ba-490e-b4df-5206e91e3192",
   "metadata": {},
   "outputs": [],
   "source": [
    "# find the Fibonacci series\n",
    "def fibb(n):\n",
    "    l = [0,1]\n",
    "    for i in range(n):\n",
    "        res = l[-1]+l[-2]\n",
    "        l.append(res)\n",
    "    print(l)\n",
    "\n",
    "\n",
    "fibb(20)"
   ]
  },
  {
   "cell_type": "code",
   "execution_count": null,
   "id": "72cfb10a-608f-4e10-8825-f250a860794b",
   "metadata": {},
   "outputs": [],
   "source": [
    "# genrator for Fibonacci series\n",
    "def fib(n):\n",
    "    a,b = 0,1\n",
    "    while True:\n",
    "        yield a\n",
    "        a,b= b,a+b\n",
    "        "
   ]
  },
  {
   "cell_type": "code",
   "execution_count": null,
   "id": "fc9c8499-5529-41ae-bee5-3ae60e982d05",
   "metadata": {},
   "outputs": [],
   "source": [
    "f1 = fib(10)\n",
    "print(next(f1))\n",
    "print(next(f1))\n",
    "print(next(f1))"
   ]
  },
  {
   "cell_type": "code",
   "execution_count": null,
   "id": "b17a8cc4-4473-4637-a970-2bdc44d1eeae",
   "metadata": {},
   "outputs": [],
   "source": [
    "list1 = [21,4,3,6,87,32,85,41,67,43,78,324]\n",
    "\n",
    "for i in range(len(list1)):\n",
    "    for j in range(i+1,len(list1)):\n",
    "        if list1[i] > list1[j]:\n",
    "            list1[i],list1[j] = list1[j],list1[i]\n",
    "        \n",
    "print(list1)"
   ]
  },
  {
   "cell_type": "code",
   "execution_count": null,
   "id": "54fe628b-e50e-403c-8e0c-9aa16fd8f665",
   "metadata": {},
   "outputs": [],
   "source": [
    "str1 = \"madam\"\n",
    "\n",
    "if str1[::-1] == str1:\n",
    "    print(\"palindrome\")\n",
    "else:\n",
    "    print(\"not palindrome\")"
   ]
  },
  {
   "cell_type": "code",
   "execution_count": null,
   "id": "f415aac7-735d-4680-a847-c5648265db7b",
   "metadata": {},
   "outputs": [],
   "source": [
    "str1 = \"madam\"\n",
    "\n",
    "reverse = []\n",
    "for i in range(len(str1)-1,-1,-1):\n",
    "    reverse.append(str1[i])\n",
    "    r = \"\".join(reverse)\n",
    "if r == str1:\n",
    "    print(\"palindrome\")\n",
    "else:\n",
    "    print(\"not palindrome\")"
   ]
  },
  {
   "cell_type": "code",
   "execution_count": null,
   "id": "47bbeccd-6548-4201-8619-62e188273513",
   "metadata": {},
   "outputs": [],
   "source": [
    "# sort a dict\n",
    "d1 = {\"name\":\"rahul\",\"age\":123,\"gender\":\"male\"}\n",
    "\n",
    "d2 = {}\n",
    "for i in sorted(d1.keys()):\n",
    "    d2[i] = d1[i] \n",
    "print(d2)\n"
   ]
  },
  {
   "cell_type": "code",
   "execution_count": null,
   "id": "cfd1d741-d980-47d1-999c-6d0951997568",
   "metadata": {},
   "outputs": [],
   "source": [
    "# print all pairs with given sum.\n",
    "\n",
    "list1 = [8,3,2,7,9,4,1]\n",
    "\n",
    "k = 10\n",
    "\n",
    "for i in range(len(list1)):\n",
    "    for j in range(i+1,len(list1)):\n",
    "        if list1[i]+list1[j] == k:\n",
    "            print(list1[i],list1[j])\n",
    "        "
   ]
  },
  {
   "cell_type": "code",
   "execution_count": null,
   "id": "243b8d5b-c820-4de3-8cb1-58aa708a3ba8",
   "metadata": {},
   "outputs": [],
   "source": [
    "str1 = \"hello my nnnnnnname is computer.\"\n",
    "count = {}\n",
    "for i in str1:\n",
    "    if i in count:\n",
    "        count[i] += 1\n",
    "    else:\n",
    "        count[i] = 1\n",
    "print(count)\n",
    "\n",
    "most_frequent = max(count, key=count.get)\n",
    "print(f\"most repeated char= {most_frequent}\")"
   ]
  },
  {
   "cell_type": "code",
   "execution_count": null,
   "id": "b5d90efa-cdcf-4f33-9fdb-63a5e805de8c",
   "metadata": {},
   "outputs": [],
   "source": [
    "str1 = \"hello my name is computer.\"\n",
    "count = {}\n",
    "for i in str1.split():\n",
    "    if i in count:\n",
    "        count[i] += 1\n",
    "    else:\n",
    "        count[i] = 1\n",
    "\n",
    "print(count)"
   ]
  },
  {
   "cell_type": "code",
   "execution_count": null,
   "id": "7c162b97-d05b-4729-aeb1-effc4647c97a",
   "metadata": {},
   "outputs": [],
   "source": [
    "list1 = [21,4,3,6,87,32,85,441,67,43,78,324]\n",
    "max_length= list1[0]\n",
    "\n",
    "for i in list1:\n",
    "    if i > max_length:\n",
    "        max_length = i\n",
    "print(max_length)"
   ]
  },
  {
   "cell_type": "code",
   "execution_count": null,
   "id": "28633fe3-c413-46ff-8582-cf6cf1640e3e",
   "metadata": {},
   "outputs": [],
   "source": [
    "list1 = [21,4,3,6,87,32,85,441,67,43,78,324]\n",
    "min_length = list1[0]\n",
    "\n",
    "for i in list1:\n",
    "    if i < min_length:\n",
    "        min_length = i\n",
    "print(min_length)"
   ]
  },
  {
   "cell_type": "code",
   "execution_count": null,
   "id": "4d55e6a7-3394-430c-bf33-8efd03d43514",
   "metadata": {},
   "outputs": [],
   "source": [
    "# how to raise exceptions \n",
    "list1 = [21,4,3,6,87,32,85,441,67,43,78,324]\n",
    "res = 0\n",
    "for i in list1:\n",
    "    if i == 78:\n",
    "        raise Exception(\"78 is found\")\n",
    "    else:\n",
    "        res += i\n",
    "print(res)"
   ]
  },
  {
   "cell_type": "code",
   "execution_count": null,
   "id": "a72a6d86-292a-4351-ad17-67d38cfa2e6c",
   "metadata": {},
   "outputs": [],
   "source": [
    "# prime number\n",
    "\n",
    "def prime_number(number):\n",
    "    res = 0\n",
    "    if number < 2:\n",
    "        return \"not a prime number\"\n",
    "    else:\n",
    "        for i in range(2,number):\n",
    "            if number%i == 0:\n",
    "                return False\n",
    "        return True"
   ]
  },
  {
   "cell_type": "code",
   "execution_count": null,
   "id": "2b7527e8-d79e-4eb9-af40-ed31eb5f65aa",
   "metadata": {},
   "outputs": [],
   "source": [
    "# prime_number(23)"
   ]
  },
  {
   "cell_type": "code",
   "execution_count": null,
   "id": "583eab2b-cf95-413b-835d-c88921e9a2c5",
   "metadata": {},
   "outputs": [],
   "source": [
    "def add_prime(num):\n",
    "    res = 0\n",
    "    for i in range(2,num + 1):\n",
    "        if prime_number(i):\n",
    "            res += i\n",
    "    return res\n",
    "add_prime(10)"
   ]
  },
  {
   "cell_type": "code",
   "execution_count": null,
   "id": "3a22f2bd-1c00-4762-966a-33b9365fabb9",
   "metadata": {},
   "outputs": [],
   "source": [
    "# find the factorial.\n",
    "\n",
    "def factorial(num):\n",
    "    res = 1\n",
    "    if num < 0:\n",
    "        return \"factorial does not exits of negative number\"\n",
    "    elif num == 0:\n",
    "        return \"factorial of 0 is 1\"\n",
    "    else:\n",
    "        for i in range(1,num+1):\n",
    "            res *= i\n",
    "        return res\n",
    "\n",
    "factorial(5)"
   ]
  },
  {
   "cell_type": "code",
   "execution_count": 18,
   "id": "ab10229e-1c8b-4858-a020-a2c4286dfb46",
   "metadata": {},
   "outputs": [
    {
     "name": "stdout",
     "output_type": "stream",
     "text": [
      "[ 1 ,   0 ,   7 ,   8 ,   0 ,   9 ]\n"
     ]
    }
   ],
   "source": [
    "n =  [9,0,8,7,0,1]\n",
    "reverse = []\n",
    "for i in range(len(n)-1,-1,-1):\n",
    "    reverse.append(n[i])\n",
    "    r = \" \".join(str(reverse))\n",
    "print(r)\n"
   ]
  },
  {
   "cell_type": "code",
   "execution_count": 28,
   "id": "7de329b6-b660-4944-ae03-a3dbd9904813",
   "metadata": {},
   "outputs": [
    {
     "data": {
      "text/plain": [
       "54321"
      ]
     },
     "execution_count": 28,
     "metadata": {},
     "output_type": "execute_result"
    }
   ],
   "source": [
    "num = int(str(12345)[::-1])\n",
    "num"
   ]
  },
  {
   "cell_type": "code",
   "execution_count": 34,
   "id": "bc0c416c-7a08-4d1a-b3ed-1a993ead77f1",
   "metadata": {},
   "outputs": [
    {
     "name": "stdout",
     "output_type": "stream",
     "text": [
      "54321\n"
     ]
    }
   ],
   "source": [
    "num = 12345\n",
    "\n",
    "rev = 0\n",
    "while num > 0:\n",
    "    digit = num%10\n",
    "    rev = rev*10+digit\n",
    "    num = num//10\n",
    "print(rev)"
   ]
  },
  {
   "cell_type": "code",
   "execution_count": 37,
   "id": "3f0ed972-4337-4d99-b960-72614d0fe2d5",
   "metadata": {},
   "outputs": [
    {
     "name": "stdout",
     "output_type": "stream",
     "text": [
      "[0, 1, 1, 2, 3, 5, 8, 13, 21, 34, 55]\n"
     ]
    }
   ],
   "source": [
    "num = 10\n",
    "fib = [0,1]\n",
    "\n",
    "for i in range(2,num+1):\n",
    "    fibb = fib[-1]+fib[-2]\n",
    "    fib.append(fibb)\n",
    "print(fib)"
   ]
  },
  {
   "cell_type": "code",
   "execution_count": 42,
   "id": "d898da59-1617-422e-9d54-a735e40d39c0",
   "metadata": {},
   "outputs": [
    {
     "name": "stdin",
     "output_type": "stream",
     "text": [
      "enter the first number 20\n",
      "enter the second number 30\n"
     ]
    },
    {
     "name": "stdout",
     "output_type": "stream",
     "text": [
      "GCD is:  10\n"
     ]
    }
   ],
   "source": [
    "num1 = int(input(\"enter the first number\"))\n",
    "num2 = int(input(\"enter the second number\"))\n",
    "\n",
    "if num1 > num2:\n",
    "    small = num2\n",
    "else:\n",
    "    small = num1\n",
    "\n",
    "for i in range(1,small+1):\n",
    "    if num1%i==0 and num2%i == 0:\n",
    "        gcd = i\n",
    "print(\"GCD is: \",gcd)"
   ]
  },
  {
   "cell_type": "code",
   "execution_count": 49,
   "id": "b4a03b6b-4572-406a-a7a9-e2329134dc31",
   "metadata": {},
   "outputs": [
    {
     "name": "stdin",
     "output_type": "stream",
     "text": [
      "enter first string care\n",
      "enter second string race\n"
     ]
    },
    {
     "name": "stdout",
     "output_type": "stream",
     "text": [
      "Anagram\n"
     ]
    }
   ],
   "source": [
    "# 5. Write code to Check if two strings are Anagram or not\n",
    "str1 = input(\"enter first string\")\n",
    "str2 = input(\"enter second string\")\n",
    "\n",
    "if len(str1) != len(str2):\n",
    "    print(\"not Anagram\")\n",
    "else:\n",
    "    if sorted(str1) == sorted(str2):\n",
    "        print(\"Anagram\")\n",
    "    else:\n",
    "        print(\"not\")"
   ]
  },
  {
   "cell_type": "code",
   "execution_count": 76,
   "id": "78d9d8c6-b686-41ed-a591-0904e442f396",
   "metadata": {},
   "outputs": [
    {
     "name": "stdout",
     "output_type": "stream",
     "text": [
      "{' ': 7, 'h': 2, 'e': 2, 'l': 4, 'o': 4, 'i': 2, 'a': 1, 'm': 3, 'f': 2, 'r': 2}\n"
     ]
    }
   ],
   "source": [
    "string =\" hello hello i i am form from\"\n",
    "count = {}\n",
    "for i in string:\n",
    "    if i in count:\n",
    "        count[i] += 1\n",
    "    else:\n",
    "        count[i] = 1\n",
    "print(count)"
   ]
  },
  {
   "cell_type": "code",
   "execution_count": 77,
   "id": "d89cf494-da04-4e94-917b-27e4bd436b0c",
   "metadata": {},
   "outputs": [
    {
     "name": "stdout",
     "output_type": "stream",
     "text": [
      "{'hello': 2, 'i': 2, 'am': 1, 'form': 1, 'from': 1}\n"
     ]
    }
   ],
   "source": [
    "string =\" hello hello i i am form from\"\n",
    "count = {}\n",
    "for i in string.split():\n",
    "    if i in count:\n",
    "        count[i] += 1\n",
    "    else:\n",
    "        count[i] = 1\n",
    "print(count)"
   ]
  },
  {
   "cell_type": "code",
   "execution_count": 99,
   "id": "38cf9486-d4d2-417f-a08d-b1185c851adb",
   "metadata": {},
   "outputs": [
    {
     "data": {
      "text/plain": [
       "[(1, 1),\n",
       " (2, 4),\n",
       " (3, 9),\n",
       " (4, 16),\n",
       " (5, 25),\n",
       " (6, 36),\n",
       " (7, 49),\n",
       " (8, 64),\n",
       " (9, 81),\n",
       " (10, 100)]"
      ]
     },
     "execution_count": 99,
     "metadata": {},
     "output_type": "execute_result"
    }
   ],
   "source": [
    "# list compcomprehension\n",
    "num = 10\n",
    "res = 0\n",
    "[(i,i**2) for i in range(1,num+1)]\n"
   ]
  },
  {
   "cell_type": "code",
   "execution_count": 92,
   "id": "223b81b1-0787-457e-bdb3-ab68f2e6d53b",
   "metadata": {},
   "outputs": [
    {
     "data": {
      "text/plain": [
       "{1: 1, 2: 4, 3: 9, 4: 16, 5: 25, 6: 36, 7: 49, 8: 64, 9: 81, 10: 100}"
      ]
     },
     "execution_count": 92,
     "metadata": {},
     "output_type": "execute_result"
    }
   ],
   "source": [
    "num = 10\n",
    "res = 0\n",
    "{i:i**2 for i in range(1,num+1)}"
   ]
  },
  {
   "cell_type": "code",
   "execution_count": 105,
   "id": "bee619c7-cba3-45a2-aac2-ef3d1bcc1791",
   "metadata": {},
   "outputs": [
    {
     "name": "stdout",
     "output_type": "stream",
     "text": [
      "[8, 10, 12]\n"
     ]
    }
   ],
   "source": [
    "list1 = [1,2,3]\n",
    "list2 = [7,8,9]\n",
    "res = []\n",
    "for i in range(0,len(list1)):\n",
    "    res.append(list1[i]+list2[i])\n",
    "print(res)"
   ]
  },
  {
   "cell_type": "code",
   "execution_count": 106,
   "id": "8cd2b469-fe6b-42f6-b75c-1812c1e2fc35",
   "metadata": {},
   "outputs": [
    {
     "name": "stdout",
     "output_type": "stream",
     "text": [
      "8\n",
      "10\n",
      "12\n"
     ]
    }
   ],
   "source": [
    "list1 = [1,2,3]\n",
    "list2 = [7,8,9]\n",
    "\n",
    "for x,y in zip(list1,list2):\n",
    "    print(x+y)"
   ]
  },
  {
   "cell_type": "code",
   "execution_count": 115,
   "id": "a3732516-5efc-43ba-a67a-69c05a135255",
   "metadata": {},
   "outputs": [
    {
     "name": "stdout",
     "output_type": "stream",
     "text": [
      "2\n"
     ]
    }
   ],
   "source": [
    "# find min number\n",
    "num = [4,2,11,43,45]\n",
    "\n",
    "min_num = num[0]\n",
    "\n",
    "for i in num:\n",
    "    if i < min_num:\n",
    "        min_num = i\n",
    "print(min_num)\n"
   ]
  },
  {
   "cell_type": "code",
   "execution_count": 116,
   "id": "34a4f752-8c41-4828-81d6-35e8b53f8702",
   "metadata": {},
   "outputs": [],
   "source": [
    "from functools import reduce"
   ]
  },
  {
   "cell_type": "code",
   "execution_count": 120,
   "id": "3e6fc497-9b09-4caf-9286-ccdfd88c3005",
   "metadata": {},
   "outputs": [
    {
     "data": {
      "text/plain": [
       "55"
      ]
     },
     "execution_count": 120,
     "metadata": {},
     "output_type": "execute_result"
    }
   ],
   "source": [
    "l = [1,2,3,4,5,6,7,8,9,10]\n",
    "def add(a,b):\n",
    "    return a+b\n",
    "\n",
    "reduce(add,l)"
   ]
  },
  {
   "cell_type": "code",
   "execution_count": 122,
   "id": "6981032e-ac81-4ce1-a334-13f73358bc7e",
   "metadata": {},
   "outputs": [
    {
     "data": {
      "text/plain": [
       "55"
      ]
     },
     "execution_count": 122,
     "metadata": {},
     "output_type": "execute_result"
    }
   ],
   "source": [
    "reduce(lambda a,b: a+b,l)"
   ]
  },
  {
   "cell_type": "code",
   "execution_count": 132,
   "id": "f6f10572-2b82-44a0-898d-37d62764065a",
   "metadata": {},
   "outputs": [
    {
     "name": "stdin",
     "output_type": "stream",
     "text": [
      "enter the number to check prime! -12\n"
     ]
    },
    {
     "name": "stdout",
     "output_type": "stream",
     "text": [
      "not a prime number\n"
     ]
    }
   ],
   "source": [
    "# prime number\n",
    "\n",
    "user = int(input(\"enter the number to check prime!\"))\n",
    "\n",
    "if user < 2:\n",
    "    print(\"not a prime number\")\n",
    "else:\n",
    "    for i in range(2,user):\n",
    "        if user%i == 0:\n",
    "            print(\"Not a Prime number\")\n",
    "            break\n",
    "    else:\n",
    "        print(\"prime number\")"
   ]
  },
  {
   "cell_type": "code",
   "execution_count": 139,
   "id": "326bf8d4-997d-4faa-b1cb-c43d551d209c",
   "metadata": {},
   "outputs": [
    {
     "name": "stdin",
     "output_type": "stream",
     "text": [
      "enter the number you want to factorial  5\n"
     ]
    },
    {
     "name": "stdout",
     "output_type": "stream",
     "text": [
      "120\n"
     ]
    }
   ],
   "source": [
    "# factorial\n",
    "number = int(input(\"enter the number you want to factorial \"))\n",
    "res = 1\n",
    "if number < 0:\n",
    "    print(\"Number is negative\")\n",
    "elif number == 0:\n",
    "    print(\"Factorial of 0 is 1\")\n",
    "else:\n",
    "    for i in range(1,number+1):\n",
    "        res *= i\n",
    "    print(res)\n"
   ]
  },
  {
   "cell_type": "code",
   "execution_count": 140,
   "id": "074c1812-2d85-4837-b63c-50085e89f669",
   "metadata": {},
   "outputs": [
    {
     "name": "stdout",
     "output_type": "stream",
     "text": [
      "[0, 1, 1, 2, 3, 5, 8, 13, 21, 34, 55, 89]\n"
     ]
    }
   ],
   "source": [
    "num = 10\n",
    "fib = [0,1]\n",
    "\n",
    "for i in range(num):\n",
    "    fibb = fib[-1]+fib[-2]\n",
    "    fib.append(fibb)\n",
    "print(fib)\n"
   ]
  },
  {
   "cell_type": "code",
   "execution_count": 152,
   "id": "8dd86ab1-a24b-4a50-8565-71f9c2a90e27",
   "metadata": {},
   "outputs": [
    {
     "name": "stdout",
     "output_type": "stream",
     "text": [
      "*\n",
      "**\n",
      "***\n",
      "****\n",
      "*****\n"
     ]
    }
   ],
   "source": [
    "n = 5\n",
    "\n",
    "for i in range(1,n+1):\n",
    "    for j in range(i):\n",
    "        print(\"*\",end=\"\")\n",
    "    print()"
   ]
  },
  {
   "cell_type": "code",
   "execution_count": 150,
   "id": "1de2129c-3406-469b-b5e3-afaba495e41d",
   "metadata": {},
   "outputs": [
    {
     "name": "stdout",
     "output_type": "stream",
     "text": [
      "*****\n",
      "****\n",
      "***\n",
      "**\n",
      "*\n",
      "\n"
     ]
    }
   ],
   "source": [
    "for i in range(n+1):\n",
    "    for j in range(n-i):\n",
    "        print(\"*\",end=\"\")\n",
    "    print()"
   ]
  },
  {
   "cell_type": "code",
   "execution_count": null,
   "id": "b1829524-2dfb-47b3-8e77-f213601e811e",
   "metadata": {},
   "outputs": [],
   "source": []
  }
 ],
 "metadata": {
  "kernelspec": {
   "display_name": "Python 3 (ipykernel)",
   "language": "python",
   "name": "python3"
  },
  "language_info": {
   "codemirror_mode": {
    "name": "ipython",
    "version": 3
   },
   "file_extension": ".py",
   "mimetype": "text/x-python",
   "name": "python",
   "nbconvert_exporter": "python",
   "pygments_lexer": "ipython3",
   "version": "3.11.9"
  },
  "widgets": {
   "application/vnd.jupyter.widget-state+json": {
    "state": {},
    "version_major": 2,
    "version_minor": 0
   }
  }
 },
 "nbformat": 4,
 "nbformat_minor": 5
}
