{
 "cells": [
  {
   "cell_type": "code",
   "execution_count": 15,
   "id": "d1ec5cbd-0d06-4cc5-b2d8-ef1da351f348",
   "metadata": {},
   "outputs": [
    {
     "name": "stdout",
     "output_type": "stream",
     "text": [
      "My**Name**Is**James\n"
     ]
    }
   ],
   "source": [
    "# Write a program to display four string “My, “Name“, “Is“, “James” as “My**Name**Is**James“.\n",
    "\n",
    "str1 = 'My'\n",
    "str2 = 'Name'\n",
    "str3 = 'Is'\n",
    "str4 = 'James'\n",
    "print(str1,str2,str3,str4,sep=\"**\")"
   ]
  },
  {
   "cell_type": "code",
   "execution_count": 32,
   "id": "f0a5f680-c569-46ab-a805-f10f85227270",
   "metadata": {},
   "outputs": [],
   "source": [
    "with open(\"smaple.txt\",\"w\") as f:\n",
    "    f.write(\"\"\"line1\n",
    "line2\n",
    "line3\n",
    "line4\n",
    "line5\n",
    "line6\n",
    "line7\"\"\")\n"
   ]
  },
  {
   "cell_type": "code",
   "execution_count": 51,
   "id": "be7b53ca-ad8c-4160-a346-ba475c9c390f",
   "metadata": {},
   "outputs": [],
   "source": [
    "with open(\"smaple.txt\",\"r\") as f:\n",
    "    line = f.readlines()\n",
    "with open (\"new.txt\",\"w\") as wf:\n",
    "    for l in line:\n",
    "        if l.strip() == \"line5\":\n",
    "            continue\n",
    "        else:\n",
    "            wf.write(l)\n"
   ]
  },
  {
   "cell_type": "code",
   "execution_count": 83,
   "id": "31fb57b9-5df0-4d1c-959c-ba5bf778d933",
   "metadata": {},
   "outputs": [
    {
     "name": "stdout",
     "output_type": "stream",
     "text": [
      "total money= 1000 quantity= 3 price= 450\n"
     ]
    }
   ],
   "source": [
    "# Write a program to use the string.format() method to format the following three variables according to the expected output.\n",
    "\n",
    "print(\"total money= {} quantity= {} price= {}\".format(1000, 3, 450))"
   ]
  },
  {
   "cell_type": "code",
   "execution_count": 84,
   "id": "56d57865-c701-415b-b8bf-d575287c3f8c",
   "metadata": {},
   "outputs": [
    {
     "name": "stdout",
     "output_type": "stream",
     "text": [
      "{'ok': 1, 'hello': 1, 2: 1, 23: 3, 11: 3, 6: 2, 9: 1, 'check': 2, 'go': 2, 'my': 2, 'name': 3, 22: 2, 99: 1, 32: 1, 34: 1}\n"
     ]
    }
   ],
   "source": [
    "# Write a Python program to count the occurrences of an element in a list.\n",
    "s = [\"ok\",\"hello\",2, 23, 11, 6, 9,\"check\",\"go\",\"my\",\"name\",22, 23,\"name\", 11,\"check\",\"go\",\"my\",\"name\",22, 23, 11, 6, 99, 32, 34]\n",
    "count = {}\n",
    "for i in s:\n",
    "    if i in count:\n",
    "        count[i] += 1\n",
    "    else:\n",
    "        count[i] = 1\n",
    "print(count)\n",
    "\n",
    "# for key, value in count.items():\n",
    "    # print(f\"{key}:{value}\",end=\", \")\n"
   ]
  },
  {
   "cell_type": "code",
   "execution_count": 88,
   "id": "e29922c2-ffcc-406d-91fa-1bfb99c4ae5b",
   "metadata": {},
   "outputs": [
    {
     "name": "stdin",
     "output_type": "stream",
     "text": [
      "enter your word or something you want to find  9\n"
     ]
    },
    {
     "name": "stdout",
     "output_type": "stream",
     "text": [
      "Found 6 position\n"
     ]
    }
   ],
   "source": [
    "# Write a program to find the index of an element in a list.\n",
    "s = [\"ok\",\"hello\",2, 23, 11, 6, 9,\"check\",\"go\",\"my\",\"name\",22, 23,\"name\", 11,\"check\",\"go\",\"my\",\"name\",22, 23, 11, 6, 99, 32, 34]\n",
    "user = input(\"enter your word or something you want to find \")\n",
    "\n",
    "if user.isdigit():\n",
    "    user = int(user)\n",
    "        \n",
    "if user in s:\n",
    "    print(\"Found\",s.index(user),\"position\")\n",
    "else:\n",
    "    print(\"number not found\")\n"
   ]
  },
  {
   "cell_type": "code",
   "execution_count": 90,
   "id": "ab586598-f3b8-4e7d-a541-f8db4184ce58",
   "metadata": {},
   "outputs": [
    {
     "name": "stdin",
     "output_type": "stream",
     "text": [
      "enter your word or something you want to find  22\n"
     ]
    },
    {
     "name": "stdout",
     "output_type": "stream",
     "text": [
      "22: found index  [11, 19]\n"
     ]
    }
   ],
   "source": [
    "s = [\"ok\",\"hello\",2, 23, 11, 6, 9,\"check\",\"go\",\"my\",\"name\",22, 23,\"name\", 11,\"check\",\"go\",\"my\",\"name\",22, 23, 11, 6, 99, 32, 34]\n",
    "user = input(\"enter your word or something you want to find \")\n",
    "\n",
    "\n",
    "if user.isdigit():\n",
    "    user = int(user)\n",
    "\n",
    "\n",
    "index = []\n",
    "for i in range(len(s)):\n",
    "    if s[i] == user:\n",
    "        index.append(i)\n",
    "        \n",
    "if index:\n",
    "    print(f\"{user}: found index  {index}\")\n",
    "else:\n",
    "    print(\"not found\")\n",
    "        "
   ]
  },
  {
   "cell_type": "code",
   "execution_count": 91,
   "id": "937d46c0-c6c2-4127-b4e3-d9eea9fd649d",
   "metadata": {},
   "outputs": [
    {
     "name": "stdout",
     "output_type": "stream",
     "text": [
      "hello today is Tuesday\n",
      "<class 'str'>\n",
      "h e l l o   t o d a y   i s   T u e s d a y\n",
      "<class 'list'>\n"
     ]
    }
   ],
   "source": [
    "# Convert a string into a list of characters.\n",
    "s = \"hello today is Tuesday\"\n",
    "print(s)\n",
    "print(type(s))\n",
    "l= list(s)\n",
    "print(\" \".join(l))\n",
    "print(type(l))\n"
   ]
  },
  {
   "cell_type": "code",
   "execution_count": 92,
   "id": "e862e881-6f70-410c-904c-a835a07a689d",
   "metadata": {},
   "outputs": [
    {
     "name": "stdout",
     "output_type": "stream",
     "text": [
      "[1, 3, 13, 67]\n"
     ]
    }
   ],
   "source": [
    "# Write a program to remove all even numbers from a list.\n",
    "l = [22, 1, 2, 42, 32, 68, 3, 13, 67]\n",
    "odd_list = []\n",
    "for even in l:\n",
    "    if even%2 != 0:\n",
    "        odd_list.append(even)\n",
    "print(odd_list)\n"
   ]
  },
  {
   "cell_type": "code",
   "execution_count": 93,
   "id": "5bf290a1-c757-45c9-8b7b-10acac2f15d0",
   "metadata": {},
   "outputs": [
    {
     "name": "stdout",
     "output_type": "stream",
     "text": [
      "111\n"
     ]
    }
   ],
   "source": [
    "l = [22, 1, 2, 42, 32, 682, 682, 3,111, 13, 67]\n",
    "l1 = list(set(l))\n",
    "if len(l1) > 2:\n",
    "    l1.sort(reverse=True)\n",
    "    print(l1[1])\n",
    "else:\n",
    "    print(\"not exists\")"
   ]
  },
  {
   "cell_type": "code",
   "execution_count": 94,
   "id": "68d83694-37f3-430f-91b6-1b4f96fb1323",
   "metadata": {},
   "outputs": [
    {
     "name": "stdout",
     "output_type": "stream",
     "text": [
      "     June 2025\n",
      "Mo Tu We Th Fr Sa Su\n",
      "                   1\n",
      " 2  3  4  5  6  7  8\n",
      " 9 10 11 12 13 14 15\n",
      "16 17 18 19 20 21 22\n",
      "23 24 25 26 27 28 29\n",
      "30\n",
      "\n"
     ]
    }
   ],
   "source": [
    "# Write a Python program to display calendar.\n",
    "\n",
    "import calendar\n",
    "\n",
    "year = 2025\n",
    "month = 6\n",
    "\n",
    "cal = calendar.month(year,month)\n",
    "print(cal)"
   ]
  },
  {
   "cell_type": "code",
   "execution_count": 95,
   "id": "dbe535a8-7f67-4b70-9e91-7ab46eb44a46",
   "metadata": {},
   "outputs": [
    {
     "data": {
      "text/plain": [
       "{1, 2, 3, 4, 5, 11, 12, 13}"
      ]
     },
     "execution_count": 95,
     "metadata": {},
     "output_type": "execute_result"
    }
   ],
   "source": [
    "# Write a Python program to find the union of two sets.\n",
    "s1 = {1,2,3,4,5,11,12,13}\n",
    "s2 = {6,7,8,9,10}\n",
    "s1.union(s2)\n",
    "s1.intersection(s2)\n",
    "s1.difference(s2)\n"
   ]
  },
  {
   "cell_type": "code",
   "execution_count": 96,
   "id": "bb9884e3-a6f5-4cd6-aa9f-6e4df37cdecc",
   "metadata": {},
   "outputs": [
    {
     "data": {
      "text/plain": [
       "True"
      ]
     },
     "execution_count": 96,
     "metadata": {},
     "output_type": "execute_result"
    }
   ],
   "source": [
    "# Write a program to check if one set is a subset of another set.\n",
    "\n",
    "s1 = {1,2,3,4,5,11,12,13}\n",
    "s2 = {1,2,3,4,5}\n",
    "s2.issubset(s1)\n"
   ]
  },
  {
   "cell_type": "code",
   "execution_count": 97,
   "id": "1ca8baac-1476-4d22-bfcf-16387c61dcf6",
   "metadata": {},
   "outputs": [
    {
     "name": "stdout",
     "output_type": "stream",
     "text": [
      "[1, 2, 3, 4, 5, 6, 7, 'hello', 8, 9, 10, (20+10j)]\n"
     ]
    }
   ],
   "source": [
    "# Write a program to remove duplicates from a list using a set.\n",
    "s = {1,2,3,4,5,6,7,\"hello\",8,9,10,7,8,9,10,\"hello\",20+10j,7,8,9,10}\n",
    "fresh = []\n",
    "for i in s:\n",
    "    if i not in fresh:\n",
    "        fresh.append(i)\n",
    "print(fresh)"
   ]
  },
  {
   "cell_type": "code",
   "execution_count": null,
   "id": "143c2f77-ab2c-4bc8-b2e6-2c1ccc2c74ba",
   "metadata": {},
   "outputs": [],
   "source": []
  }
 ],
 "metadata": {
  "kernelspec": {
   "display_name": "Python 3 (ipykernel)",
   "language": "python",
   "name": "python3"
  },
  "language_info": {
   "codemirror_mode": {
    "name": "ipython",
    "version": 3
   },
   "file_extension": ".py",
   "mimetype": "text/x-python",
   "name": "python",
   "nbconvert_exporter": "python",
   "pygments_lexer": "ipython3",
   "version": "3.11.9"
  },
  "widgets": {
   "application/vnd.jupyter.widget-state+json": {
    "state": {},
    "version_major": 2,
    "version_minor": 0
   }
  }
 },
 "nbformat": 4,
 "nbformat_minor": 5
}
