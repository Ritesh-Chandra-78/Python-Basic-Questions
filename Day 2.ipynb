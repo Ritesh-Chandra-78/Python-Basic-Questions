{
 "cells": [
  {
   "cell_type": "code",
   "execution_count": 21,
   "id": "152720c6-8630-4146-9fd9-49b37bd74369",
   "metadata": {},
   "outputs": [],
   "source": [
    "#  Generate Fibonacci series up to 10 terms\n",
    "\n",
    "def Fibonacci(number):\n",
    "    try:\n",
    "        fib = [0,1]\n",
    "        for i in number:\n",
    "            result = fib[-1] + fib[-2]\n",
    "            fib.append(result)\n",
    "    except NameError:\n",
    "        print(\"Something wrong\")\n",
    "    else:\n",
    "        print(fib)\n",
    "    finally:\n",
    "        print(\"Code executed\")"
   ]
  },
  {
   "cell_type": "code",
   "execution_count": 23,
   "id": "9315bd24-401d-49e4-af90-12df725a636c",
   "metadata": {},
   "outputs": [
    {
     "name": "stdout",
     "output_type": "stream",
     "text": [
      "[0, 1, 1, 2, 3, 5, 8, 13, 21, 34, 55, 89]\n",
      "Code executed\n"
     ]
    }
   ],
   "source": [
    "Fibonacci([1,2,3,4,5,6,7,8,9,10])"
   ]
  },
  {
   "cell_type": "code",
   "execution_count": 41,
   "id": "cf4b9e10-b495-421d-b915-2fe8794b45ce",
   "metadata": {},
   "outputs": [],
   "source": [
    "# Check if a given year is a leap year\n",
    "\n",
    "def leap_year(year):\n",
    "    if year%400 == 0:\n",
    "        print(\"leap year\")\n",
    "    elif year%100 == 0:\n",
    "        print(\"not leap year\")\n",
    "    elif year%4 == 0:\n",
    "        print(\"leap year\")\n",
    "    else:\n",
    "        print(\"not leap year\")"
   ]
  },
  {
   "cell_type": "code",
   "execution_count": 42,
   "id": "5cb9911a-b7b8-4898-aac9-c5932b4a86dd",
   "metadata": {},
   "outputs": [
    {
     "name": "stdout",
     "output_type": "stream",
     "text": [
      "not leap year\n"
     ]
    }
   ],
   "source": [
    "leap_year(2025)"
   ]
  },
  {
   "cell_type": "code",
   "execution_count": 43,
   "id": "29309e9a-0a3e-4342-8aea-d27873d19e2a",
   "metadata": {},
   "outputs": [
    {
     "name": "stdout",
     "output_type": "stream",
     "text": [
      "leap year\n",
      "not leap year\n",
      "leap year\n",
      "not leap year\n"
     ]
    }
   ],
   "source": [
    "leap_year(2000)  # leap year\n",
    "leap_year(1900)  # not leap year\n",
    "leap_year(2024)  # leap year\n",
    "leap_year(2023)  # not leap year"
   ]
  },
  {
   "cell_type": "code",
   "execution_count": 61,
   "id": "4da4fd78-e0f8-48c7-8465-3c9dac5a0c63",
   "metadata": {},
   "outputs": [
    {
     "name": "stdout",
     "output_type": "stream",
     "text": [
      "prime\n"
     ]
    }
   ],
   "source": [
    "# Print Alternate Prime Numbers till 20\n",
    "num = 23\n",
    "if num < 2:\n",
    "    print(\"not prime\")\n",
    "else:\n",
    "    for i in range(2,num):\n",
    "        if num%i == 0:\n",
    "            print(\"not prime:\")\n",
    "            break\n",
    "    else:\n",
    "        print(\"prime\")\n",
    "\n"
   ]
  },
  {
   "cell_type": "code",
   "execution_count": 76,
   "id": "3e744125-3918-445c-b9a8-c5e3600b2d59",
   "metadata": {},
   "outputs": [
    {
     "name": "stdout",
     "output_type": "stream",
     "text": [
      "*****\n",
      "****\n",
      "***\n",
      "**\n",
      "*\n"
     ]
    }
   ],
   "source": [
    "# Print Reverse Number Pattern\n",
    "for i in range(1,6):\n",
    "    for j in range(6-i):\n",
    "        print(\"*\",end=\"\")\n",
    "    print()"
   ]
  },
  {
   "cell_type": "code",
   "execution_count": 94,
   "id": "004d3f5b-2544-431e-a40f-f72c8efa82da",
   "metadata": {},
   "outputs": [
    {
     "name": "stdin",
     "output_type": "stream",
     "text": [
      "enter your string:  21343refsxc\n"
     ]
    },
    {
     "name": "stdout",
     "output_type": "stream",
     "text": [
      "contain some didgits.\n"
     ]
    }
   ],
   "source": [
    "# Check if a user-entered string contains any digits using a for loop\n",
    "\n",
    "user_input = input(\"enter your string: \")\n",
    "\n",
    "for i in user_input:\n",
    "    if i.isdigit():\n",
    "        print(\"contain some didgits.\")\n",
    "        break\n",
    "else:\n",
    "    print(\"contain not any digits.\")\n"
   ]
  },
  {
   "cell_type": "code",
   "execution_count": 110,
   "id": "f0169d57-09ea-407d-a279-ff44fda0e6b3",
   "metadata": {},
   "outputs": [
    {
     "name": "stdout",
     "output_type": "stream",
     "text": [
      "My Name Is Rahul "
     ]
    }
   ],
   "source": [
    "# Capitalize the first letter of each word in a string\n",
    "\n",
    "str1 = \"my name is rahul\"\n",
    "\n",
    "for i in str1.split():\n",
    "    d = i.capitalize()\n",
    "    print(d,end=\" \")"
   ]
  },
  {
   "cell_type": "code",
   "execution_count": 111,
   "id": "765d448c-b587-4a75-bd64-367b36cf54d6",
   "metadata": {},
   "outputs": [
    {
     "name": "stdout",
     "output_type": "stream",
     "text": [
      "Total vowel:  7\n",
      "Total consonant:  11\n"
     ]
    }
   ],
   "source": [
    "# Count vowels and consonants in a string.\n",
    "\n",
    "user = \"hello how are you \"\n",
    "\n",
    "vowel  = [\"a\",\"i\",\"e\",\"o\",\"u\"]\n",
    "consonat_count = 0\n",
    "vowel_count = 0\n",
    "\n",
    "for i in user:\n",
    "    if i in vowel:\n",
    "        vowel_count += 1\n",
    "    else:\n",
    "        consonat_count += 1\n",
    "print(\"Total vowel: \",vowel_count)\n",
    "print(\"Total consonant: \",consonat_count)\n"
   ]
  },
  {
   "cell_type": "code",
   "execution_count": 112,
   "id": "7cdc8dca-6853-4e54-a7bd-699e4e0837d4",
   "metadata": {},
   "outputs": [
    {
     "name": "stdout",
     "output_type": "stream",
     "text": [
      "[1, 2, 3, 4, 5]\n"
     ]
    }
   ],
   "source": [
    "# Remove all duplicates from a list.\n",
    "l = [1,2,3,4,5,1,2,3,4,5,1,2,3,4,5,1,2,3,4,5]\n",
    "l1 = []\n",
    "for i in l:\n",
    "    if i not in l1:\n",
    "        l1.append(i)\n",
    "print(l1)"
   ]
  },
  {
   "cell_type": "code",
   "execution_count": 113,
   "id": "ae34f334-bd37-4082-b291-d7dcc664f002",
   "metadata": {},
   "outputs": [],
   "source": [
    "# Find the factorial of a number.\n",
    "\n",
    "def factorial(num):\n",
    "    try:\n",
    "        res = 1\n",
    "        for i in range(1,num+1):\n",
    "            res *= i\n",
    "        print(res)\n",
    "    except TypeError as t:\n",
    "        print(\"TypeError---\")\n",
    "        \n",
    "    except Exception as e:\n",
    "        print(e.with_traceback)\n",
    "    finally:\n",
    "        print(\"code executed\")\n"
   ]
  },
  {
   "cell_type": "code",
   "execution_count": 114,
   "id": "3a524d34-e3bc-436f-9d24-d6c6221a332a",
   "metadata": {},
   "outputs": [
    {
     "name": "stdout",
     "output_type": "stream",
     "text": [
      "120\n",
      "code executed\n"
     ]
    }
   ],
   "source": [
    "factorial(5)"
   ]
  },
  {
   "cell_type": "code",
   "execution_count": null,
   "id": "2d444b25-b765-432e-990a-1d6b33597f2a",
   "metadata": {},
   "outputs": [],
   "source": []
  }
 ],
 "metadata": {
  "kernelspec": {
   "display_name": "Python 3 (ipykernel)",
   "language": "python",
   "name": "python3"
  },
  "language_info": {
   "codemirror_mode": {
    "name": "ipython",
    "version": 3
   },
   "file_extension": ".py",
   "mimetype": "text/x-python",
   "name": "python",
   "nbconvert_exporter": "python",
   "pygments_lexer": "ipython3",
   "version": "3.11.9"
  },
  "widgets": {
   "application/vnd.jupyter.widget-state+json": {
    "state": {},
    "version_major": 2,
    "version_minor": 0
   }
  }
 },
 "nbformat": 4,
 "nbformat_minor": 5
}
