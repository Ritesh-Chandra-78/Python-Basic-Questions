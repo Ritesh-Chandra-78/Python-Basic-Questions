{
 "cells": [
  {
   "cell_type": "code",
   "execution_count": 7,
   "id": "0ac7f716-51a5-4239-be92-e44f1b3aa197",
   "metadata": {},
   "outputs": [],
   "source": [
    "class Atm:\n",
    "    def __init__(self,name,account,balance,pin):\n",
    "        self.name = name\n",
    "        self.account = account\n",
    "        self.__balance = balance\n",
    "        self.__pin = pin\n",
    "        self.account_type()\n",
    "\n",
    "    def get_balance(self):\n",
    "        return self.__balance\n",
    "\n",
    "    def get_pin(self):\n",
    "        return self.__pin\n",
    "\n",
    "    def account_type(self):\n",
    "        user_input = input(\"\"\"Select your account type!\n",
    "            1. Saving Account \n",
    "            2. Current Account\n",
    "            3. Exixts......\n",
    "        \"\"\")\n",
    "        if user_input == \"1\":\n",
    "            self.function()\n",
    "        elif user_input == \"2\":\n",
    "            pass\n",
    "        else:\n",
    "            print(\"Thanks for visiting!....\")\n",
    "            \n",
    "    def function(self):\n",
    "        user_input = input(\"\"\"Select your preferences!\n",
    "            1. Check balance\n",
    "            2. Reset pin\n",
    "            3. Deposit \n",
    "            4. Withdrawal\n",
    "            5. Press something to exits.......\n",
    "        \"\"\")\n",
    "\n",
    "        if user_input == \"1\":\n",
    "            self.check_balance()\n",
    "        elif user_input == \"2\":\n",
    "            self.reset_pin()\n",
    "        elif user_input == \"3\":\n",
    "            self.depoist()\n",
    "        elif user_input == \"4\":\n",
    "            self.withdraw()\n",
    "        else:\n",
    "            print(\"Thanks for visiting!\")\n",
    "\n",
    "    def check_balance(self):\n",
    "        pin_input = int(input(\"Enter your pin.\"))\n",
    "        if pin_input == self.get_pin():\n",
    "            print(f\"Your current balance is: {self.get_balance()}\")\n",
    "        else:\n",
    "            print(f\"Enter Your pin incorrect\")\n",
    "            self.check_balance()\n",
    "        self.account_type()\n",
    "\n",
    "    def reset_pin(self):\n",
    "        pin_input = int(input(\"Enter your old pin\"))\n",
    "        if pin_input == self.get_pin():\n",
    "            new_pin = int(input(\"Enter your new pin\"))\n",
    "            self.__pin = new_pin\n",
    "            print(\"Pin updated successfully\")\n",
    "        else:\n",
    "            print(\"Enter the correct old pin\")\n",
    "            self.reset_pin()\n",
    "        self.account_type()\n",
    "\n",
    "    def depoist(self):\n",
    "        pin_input = int(input(\"Enter your pin\"))\n",
    "        if pin_input == self.get_pin():\n",
    "            amount = int(input(\"Enter your amount\"))\n",
    "            if amount > 0:\n",
    "                self.__balance += amount\n",
    "                print(f\"Amount deposited: {amount}\")\n",
    "                print(f\"Your current balance is: {self.get_balance()}\")\n",
    "            else:\n",
    "                print(\"Amount must be greater than 0.\")\n",
    "        else:\n",
    "            print(f\"Enter the correct pin\")\n",
    "        self.account_type()\n",
    "\n",
    "    def withdraw(self):\n",
    "        pin_input = int(input(\"Enter your pin\"))\n",
    "        if pin_input == self.get_pin():\n",
    "            amount = int(input(\"Enter your amount for withdrawal\"))\n",
    "            if amount >0:\n",
    "                self.__balance -= amount\n",
    "                print(f\"Current Balance is {self.get_balance()}\")\n",
    "                print(f\"withdraw amount is {amount}\")\n",
    "            else:\n",
    "                print(\"Insufficient Balance \")\n",
    "        else:        \n",
    "            print(\"Enter the correct pin\")\n",
    "        self.account_type()"
   ]
  },
  {
   "cell_type": "code",
   "execution_count": 8,
   "id": "6bbcd57b-3c9e-4f75-b891-426ae994d096",
   "metadata": {},
   "outputs": [
    {
     "name": "stdin",
     "output_type": "stream",
     "text": [
      "Select your account type!\n",
      "            1. Saving Account \n",
      "            2. Current Account \n",
      "         1\n",
      "Select your preferences!\n",
      "            1. Check balance\n",
      "            2. Reset pin\n",
      "            3. Deposit \n",
      "            4. Withdrawal\n",
      "            5. Press something to exits\n",
      "         3\n",
      "Enter your pin 123\n",
      "Enter your amount 500\n"
     ]
    },
    {
     "name": "stdout",
     "output_type": "stream",
     "text": [
      "Amount deposited: 500\n",
      "Your current balance is: 100500\n"
     ]
    },
    {
     "name": "stdin",
     "output_type": "stream",
     "text": [
      "Select your account type!\n",
      "            1. Saving Account \n",
      "            2. Current Account \n",
      "         1\n",
      "Select your preferences!\n",
      "            1. Check balance\n",
      "            2. Reset pin\n",
      "            3. Deposit \n",
      "            4. Withdrawal\n",
      "            5. Press something to exits\n",
      "         4\n",
      "Enter your pin 100000\n"
     ]
    },
    {
     "name": "stdout",
     "output_type": "stream",
     "text": [
      "Enter the correct pin\n"
     ]
    },
    {
     "name": "stdin",
     "output_type": "stream",
     "text": [
      "Select your account type!\n",
      "            1. Saving Account \n",
      "            2. Current Account \n",
      "         1\n",
      "Select your preferences!\n",
      "            1. Check balance\n",
      "            2. Reset pin\n",
      "            3. Deposit \n",
      "            4. Withdrawal\n",
      "            5. Press something to exits\n",
      "         4\n",
      "Enter your pin 123\n",
      "Enter your amount for withdrawal 100000\n"
     ]
    },
    {
     "name": "stdout",
     "output_type": "stream",
     "text": [
      "Current Balance is 500\n",
      "withdraw amount is 100000\n"
     ]
    },
    {
     "name": "stdin",
     "output_type": "stream",
     "text": [
      "Select your account type!\n",
      "            1. Saving Account \n",
      "            2. Current Account \n",
      "         1\n",
      "Select your preferences!\n",
      "            1. Check balance\n",
      "            2. Reset pin\n",
      "            3. Deposit \n",
      "            4. Withdrawal\n",
      "            5. Press something to exits\n",
      "         1\n",
      "Enter your pin. 123\n"
     ]
    },
    {
     "name": "stdout",
     "output_type": "stream",
     "text": [
      "Your current balance is: 500\n"
     ]
    },
    {
     "name": "stdin",
     "output_type": "stream",
     "text": [
      "Select your account type!\n",
      "            1. Saving Account \n",
      "            2. Current Account \n",
      "         2\n"
     ]
    }
   ],
   "source": [
    "A = Atm(\"Rahul\",5646353,100000,123)"
   ]
  },
  {
   "cell_type": "code",
   "execution_count": null,
   "id": "2635bb66-692c-456b-b187-f9b4e162d646",
   "metadata": {},
   "outputs": [],
   "source": []
  }
 ],
 "metadata": {
  "kernelspec": {
   "display_name": "Python 3 (ipykernel)",
   "language": "python",
   "name": "python3"
  },
  "language_info": {
   "codemirror_mode": {
    "name": "ipython",
    "version": 3
   },
   "file_extension": ".py",
   "mimetype": "text/x-python",
   "name": "python",
   "nbconvert_exporter": "python",
   "pygments_lexer": "ipython3",
   "version": "3.11.9"
  },
  "widgets": {
   "application/vnd.jupyter.widget-state+json": {
    "state": {},
    "version_major": 2,
    "version_minor": 0
   }
  }
 },
 "nbformat": 4,
 "nbformat_minor": 5
}
