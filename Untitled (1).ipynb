{
 "cells": [
  {
   "cell_type": "code",
   "execution_count": 160,
   "id": "7169254d-fdd7-4654-9da3-2b3d51c15e39",
   "metadata": {},
   "outputs": [],
   "source": [
    "def check(n):\n",
    "    return n >= 3"
   ]
  },
  {
   "cell_type": "code",
   "execution_count": 161,
   "id": "53fc61e6-560a-46df-8c11-31f1c02c19bc",
   "metadata": {},
   "outputs": [
    {
     "data": {
      "text/plain": [
       "[1, 4, 9, 16, 25, 64]"
      ]
     },
     "execution_count": 161,
     "metadata": {},
     "output_type": "execute_result"
    }
   ],
   "source": [
    "list(map(cube,l))"
   ]
  },
  {
   "cell_type": "code",
   "execution_count": 162,
   "id": "7a5a4d38-e8d9-4e2f-b291-0c173a8c0817",
   "metadata": {},
   "outputs": [
    {
     "data": {
      "text/plain": [
       "[4, 5, 8]"
      ]
     },
     "execution_count": 162,
     "metadata": {},
     "output_type": "execute_result"
    }
   ],
   "source": [
    "list(filter(lambda n: n>3,l))"
   ]
  },
  {
   "cell_type": "code",
   "execution_count": 2,
   "id": "40174624-1466-462b-8539-dd164d9a4312",
   "metadata": {},
   "outputs": [],
   "source": [
    "from functools import reduce"
   ]
  },
  {
   "cell_type": "code",
   "execution_count": 3,
   "id": "8266539c-7e4a-40c4-9bd9-4670b430603a",
   "metadata": {},
   "outputs": [
    {
     "data": {
      "text/plain": [
       "55"
      ]
     },
     "execution_count": 3,
     "metadata": {},
     "output_type": "execute_result"
    }
   ],
   "source": [
    "num = [1,2,3,4,5,6,7,8,9,10]\n",
    "reduce(lambda x,y: x+y,num)"
   ]
  },
  {
   "cell_type": "code",
   "execution_count": 1,
   "id": "9bd26ea0-d6f0-4f04-bd6b-ccf000cc5d9d",
   "metadata": {},
   "outputs": [
    {
     "data": {
      "text/plain": [
       "'h  e  l  l  o     w  o  r  l  d'"
      ]
     },
     "execution_count": 1,
     "metadata": {},
     "output_type": "execute_result"
    }
   ],
   "source": [
    "s = \"hello world\"\n",
    "\"  \".join(s)"
   ]
  },
  {
   "cell_type": "code",
   "execution_count": 2,
   "id": "9f41404b-4935-4a0a-9fc0-3a5264b0a8cd",
   "metadata": {},
   "outputs": [],
   "source": [
    "class bit:\n",
    "    def __init__(self,name,age):\n",
    "        self.name = name\n",
    "        self.__age = age\n",
    "    def inter(self):\n",
    "        print(self.__age)"
   ]
  },
  {
   "cell_type": "code",
   "execution_count": 3,
   "id": "f08fbc32-4b6b-4305-8ccc-e22396e25009",
   "metadata": {},
   "outputs": [],
   "source": [
    "b = bit(\"hek\",23)"
   ]
  },
  {
   "cell_type": "code",
   "execution_count": 5,
   "id": "2b5c66a4-b9df-4c43-a51d-1b97370976a2",
   "metadata": {},
   "outputs": [
    {
     "name": "stdout",
     "output_type": "stream",
     "text": [
      "23\n"
     ]
    }
   ],
   "source": [
    "b.inter()"
   ]
  },
  {
   "cell_type": "code",
   "execution_count": 38,
   "id": "912eb28a-b45c-410d-87b3-ed7be25245ff",
   "metadata": {},
   "outputs": [
    {
     "name": "stdout",
     "output_type": "stream",
     "text": [
      "not palindrome\n"
     ]
    }
   ],
   "source": [
    "str1 = \"123456y\"\n",
    "p = []\n",
    "for i in range(len(str1)-1,-1,-1):\n",
    "    p.append(str1[i]) \n",
    "    reverse = \"\".join(p)\n",
    "\n",
    "if reverse == str1:\n",
    "    print(\"palindrome\")\n",
    "else:\n",
    "    print(\"not palindrome\")"
   ]
  },
  {
   "cell_type": "code",
   "execution_count": 9,
   "id": "88902752-a5d4-4721-a41a-2795ee2f730f",
   "metadata": {},
   "outputs": [
    {
     "name": "stdout",
     "output_type": "stream",
     "text": [
      "[15, 22, 32, 66, 27, 20, 18, 91, 100, 34, 55]\n"
     ]
    }
   ],
   "source": [
    "# Write a program to replace an element at a specific index in a list.\n",
    "l = [15,22,32,66,27,2,18,91,100,34,55]\n",
    "\n",
    "for i in range(len(l)):\n",
    "    if l[i] == 2:\n",
    "        l[i] = 20\n",
    "print(l)\n"
   ]
  },
  {
   "cell_type": "code",
   "execution_count": 10,
   "id": "f105ec00-9395-4acb-9289-8ee22af17011",
   "metadata": {},
   "outputs": [
    {
     "name": "stdout",
     "output_type": "stream",
     "text": [
      "     July 2025\n",
      "Mo Tu We Th Fr Sa Su\n",
      "    1  2  3  4  5  6\n",
      " 7  8  9 10 11 12 13\n",
      "14 15 16 17 18 19 20\n",
      "21 22 23 24 25 26 27\n",
      "28 29 30 31\n",
      "\n"
     ]
    }
   ],
   "source": [
    "# Write a Python program to display calendar.\n",
    "\n",
    "import calendar\n",
    "\n",
    "year = 2025\n",
    "month = 7\n",
    "\n",
    "cal = calendar.month(year,month)\n",
    "print(cal)"
   ]
  },
  {
   "cell_type": "code",
   "execution_count": null,
   "id": "4c52a1b4-d351-4d41-8b4d-733590e6a354",
   "metadata": {},
   "outputs": [],
   "source": []
  }
 ],
 "metadata": {
  "kernelspec": {
   "display_name": "Python 3 (ipykernel)",
   "language": "python",
   "name": "python3"
  },
  "language_info": {
   "codemirror_mode": {
    "name": "ipython",
    "version": 3
   },
   "file_extension": ".py",
   "mimetype": "text/x-python",
   "name": "python",
   "nbconvert_exporter": "python",
   "pygments_lexer": "ipython3",
   "version": "3.11.9"
  },
  "widgets": {
   "application/vnd.jupyter.widget-state+json": {
    "state": {},
    "version_major": 2,
    "version_minor": 0
   }
  }
 },
 "nbformat": 4,
 "nbformat_minor": 5
}
